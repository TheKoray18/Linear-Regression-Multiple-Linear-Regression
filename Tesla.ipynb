{
  "nbformat": 4,
  "nbformat_minor": 0,
  "metadata": {
    "colab": {
      "name": "Tesla.ipynb",
      "provenance": [],
      "authorship_tag": "ABX9TyNVqN2c5A72OUgW0xCJzRKm",
      "include_colab_link": true
    },
    "kernelspec": {
      "name": "python3",
      "display_name": "Python 3"
    }
  },
  "cells": [
    {
      "cell_type": "markdown",
      "metadata": {
        "id": "view-in-github",
        "colab_type": "text"
      },
      "source": [
        "<a href=\"https://colab.research.google.com/github/TheKoray18/Linear-Regression-Multiple-Linear-Regression/blob/main/Tesla.ipynb\" target=\"_parent\"><img src=\"https://colab.research.google.com/assets/colab-badge.svg\" alt=\"Open In Colab\"/></a>"
      ]
    },
    {
      "cell_type": "code",
      "metadata": {
        "colab": {
          "base_uri": "https://localhost:8080/"
        },
        "id": "E131kukDPNv9",
        "outputId": "7ed6fdec-1ea4-4cb2-e658-1c0d7ba9ea48"
      },
      "source": [
        "from google.colab import drive \n",
        "drive.mount('/content/drive/')"
      ],
      "execution_count": null,
      "outputs": [
        {
          "output_type": "stream",
          "text": [
            "Drive already mounted at /content/drive/; to attempt to forcibly remount, call drive.mount(\"/content/drive/\", force_remount=True).\n"
          ],
          "name": "stdout"
        }
      ]
    },
    {
      "cell_type": "markdown",
      "metadata": {
        "id": "rEZ4oqnV2-jO"
      },
      "source": [
        "# Linear Regression"
      ]
    },
    {
      "cell_type": "markdown",
      "metadata": {
        "id": "_MaqzlwsmDJA"
      },
      "source": [
        "- Datamızı Çağırıyoruz"
      ]
    },
    {
      "cell_type": "code",
      "metadata": {
        "id": "mp32VUgdQLhB"
      },
      "source": [
        "import pandas as pd \n",
        "\n",
        "data = pd.read_csv('/content/drive/My Drive/Colab Notebooks/tesla_train.csv')"
      ],
      "execution_count": null,
      "outputs": []
    },
    {
      "cell_type": "code",
      "metadata": {
        "colab": {
          "base_uri": "https://localhost:8080/",
          "height": 402
        },
        "id": "yFkPy1HYQmFB",
        "outputId": "73eacb35-b2e4-41e7-f2ad-cb4850d39916"
      },
      "source": [
        "data"
      ],
      "execution_count": null,
      "outputs": [
        {
          "output_type": "execute_result",
          "data": {
            "text/html": [
              "<div>\n",
              "<style scoped>\n",
              "    .dataframe tbody tr th:only-of-type {\n",
              "        vertical-align: middle;\n",
              "    }\n",
              "\n",
              "    .dataframe tbody tr th {\n",
              "        vertical-align: top;\n",
              "    }\n",
              "\n",
              "    .dataframe thead th {\n",
              "        text-align: right;\n",
              "    }\n",
              "</style>\n",
              "<table border=\"1\" class=\"dataframe\">\n",
              "  <thead>\n",
              "    <tr style=\"text-align: right;\">\n",
              "      <th></th>\n",
              "      <th>Date</th>\n",
              "      <th>Open</th>\n",
              "      <th>High</th>\n",
              "      <th>Low</th>\n",
              "      <th>Close</th>\n",
              "      <th>Adj Close</th>\n",
              "      <th>Volume</th>\n",
              "    </tr>\n",
              "  </thead>\n",
              "  <tbody>\n",
              "    <tr>\n",
              "      <th>0</th>\n",
              "      <td>1</td>\n",
              "      <td>255.559998</td>\n",
              "      <td>256.589996</td>\n",
              "      <td>250.509995</td>\n",
              "      <td>254.990005</td>\n",
              "      <td>254.990005</td>\n",
              "      <td>7176700</td>\n",
              "    </tr>\n",
              "    <tr>\n",
              "      <th>1</th>\n",
              "      <td>2</td>\n",
              "      <td>255.380005</td>\n",
              "      <td>260.950012</td>\n",
              "      <td>253.559998</td>\n",
              "      <td>260.720001</td>\n",
              "      <td>260.720001</td>\n",
              "      <td>4195000</td>\n",
              "    </tr>\n",
              "    <tr>\n",
              "      <th>2</th>\n",
              "      <td>3</td>\n",
              "      <td>260.329987</td>\n",
              "      <td>260.649994</td>\n",
              "      <td>255.020004</td>\n",
              "      <td>255.250000</td>\n",
              "      <td>255.250000</td>\n",
              "      <td>3604300</td>\n",
              "    </tr>\n",
              "    <tr>\n",
              "      <th>3</th>\n",
              "      <td>4</td>\n",
              "      <td>252.059998</td>\n",
              "      <td>254.559998</td>\n",
              "      <td>241.899994</td>\n",
              "      <td>242.179993</td>\n",
              "      <td>242.179993</td>\n",
              "      <td>4905800</td>\n",
              "    </tr>\n",
              "    <tr>\n",
              "      <th>4</th>\n",
              "      <td>5</td>\n",
              "      <td>236.000000</td>\n",
              "      <td>243.800003</td>\n",
              "      <td>230.509995</td>\n",
              "      <td>230.770004</td>\n",
              "      <td>230.770004</td>\n",
              "      <td>6590200</td>\n",
              "    </tr>\n",
              "    <tr>\n",
              "      <th>...</th>\n",
              "      <td>...</td>\n",
              "      <td>...</td>\n",
              "      <td>...</td>\n",
              "      <td>...</td>\n",
              "      <td>...</td>\n",
              "      <td>...</td>\n",
              "      <td>...</td>\n",
              "    </tr>\n",
              "    <tr>\n",
              "      <th>1230</th>\n",
              "      <td>1231</td>\n",
              "      <td>1405.010010</td>\n",
              "      <td>1429.500000</td>\n",
              "      <td>1336.709961</td>\n",
              "      <td>1389.859985</td>\n",
              "      <td>1389.859985</td>\n",
              "      <td>21489700</td>\n",
              "    </tr>\n",
              "    <tr>\n",
              "      <th>1231</th>\n",
              "      <td>1232</td>\n",
              "      <td>1405.000000</td>\n",
              "      <td>1417.260010</td>\n",
              "      <td>1311.339966</td>\n",
              "      <td>1365.880005</td>\n",
              "      <td>1365.880005</td>\n",
              "      <td>16311300</td>\n",
              "    </tr>\n",
              "    <tr>\n",
              "      <th>1232</th>\n",
              "      <td>1233</td>\n",
              "      <td>1396.989990</td>\n",
              "      <td>1408.560059</td>\n",
              "      <td>1351.280029</td>\n",
              "      <td>1394.280029</td>\n",
              "      <td>1394.280029</td>\n",
              "      <td>11717600</td>\n",
              "    </tr>\n",
              "    <tr>\n",
              "      <th>1233</th>\n",
              "      <td>1234</td>\n",
              "      <td>1396.000000</td>\n",
              "      <td>1548.920044</td>\n",
              "      <td>1376.010010</td>\n",
              "      <td>1544.650024</td>\n",
              "      <td>1544.650024</td>\n",
              "      <td>23337600</td>\n",
              "    </tr>\n",
              "    <tr>\n",
              "      <th>1234</th>\n",
              "      <td>1235</td>\n",
              "      <td>1659.000000</td>\n",
              "      <td>1794.989990</td>\n",
              "      <td>1471.109985</td>\n",
              "      <td>1497.060059</td>\n",
              "      <td>1497.060059</td>\n",
              "      <td>38985400</td>\n",
              "    </tr>\n",
              "  </tbody>\n",
              "</table>\n",
              "<p>1235 rows × 7 columns</p>\n",
              "</div>"
            ],
            "text/plain": [
              "      Date         Open         High  ...        Close    Adj Close    Volume\n",
              "0        1   255.559998   256.589996  ...   254.990005   254.990005   7176700\n",
              "1        2   255.380005   260.950012  ...   260.720001   260.720001   4195000\n",
              "2        3   260.329987   260.649994  ...   255.250000   255.250000   3604300\n",
              "3        4   252.059998   254.559998  ...   242.179993   242.179993   4905800\n",
              "4        5   236.000000   243.800003  ...   230.770004   230.770004   6590200\n",
              "...    ...          ...          ...  ...          ...          ...       ...\n",
              "1230  1231  1405.010010  1429.500000  ...  1389.859985  1389.859985  21489700\n",
              "1231  1232  1405.000000  1417.260010  ...  1365.880005  1365.880005  16311300\n",
              "1232  1233  1396.989990  1408.560059  ...  1394.280029  1394.280029  11717600\n",
              "1233  1234  1396.000000  1548.920044  ...  1544.650024  1544.650024  23337600\n",
              "1234  1235  1659.000000  1794.989990  ...  1497.060059  1497.060059  38985400\n",
              "\n",
              "[1235 rows x 7 columns]"
            ]
          },
          "metadata": {
            "tags": []
          },
          "execution_count": 3
        }
      ]
    },
    {
      "cell_type": "markdown",
      "metadata": {
        "id": "7Y92vEFemIOX"
      },
      "source": [
        "- Date sütununu datamızdan çıkarıyoruz"
      ]
    },
    {
      "cell_type": "code",
      "metadata": {
        "id": "zjzX79nWQoUp"
      },
      "source": [
        "data.drop('Date',axis=1,inplace=True)"
      ],
      "execution_count": null,
      "outputs": []
    },
    {
      "cell_type": "code",
      "metadata": {
        "colab": {
          "base_uri": "https://localhost:8080/",
          "height": 402
        },
        "id": "Ttk0RPzeQxpZ",
        "outputId": "b68f340e-e709-46bf-aae9-7f43914da9e1"
      },
      "source": [
        "data"
      ],
      "execution_count": null,
      "outputs": [
        {
          "output_type": "execute_result",
          "data": {
            "text/html": [
              "<div>\n",
              "<style scoped>\n",
              "    .dataframe tbody tr th:only-of-type {\n",
              "        vertical-align: middle;\n",
              "    }\n",
              "\n",
              "    .dataframe tbody tr th {\n",
              "        vertical-align: top;\n",
              "    }\n",
              "\n",
              "    .dataframe thead th {\n",
              "        text-align: right;\n",
              "    }\n",
              "</style>\n",
              "<table border=\"1\" class=\"dataframe\">\n",
              "  <thead>\n",
              "    <tr style=\"text-align: right;\">\n",
              "      <th></th>\n",
              "      <th>Open</th>\n",
              "      <th>High</th>\n",
              "      <th>Low</th>\n",
              "      <th>Close</th>\n",
              "      <th>Adj Close</th>\n",
              "      <th>Volume</th>\n",
              "    </tr>\n",
              "  </thead>\n",
              "  <tbody>\n",
              "    <tr>\n",
              "      <th>0</th>\n",
              "      <td>255.559998</td>\n",
              "      <td>256.589996</td>\n",
              "      <td>250.509995</td>\n",
              "      <td>254.990005</td>\n",
              "      <td>254.990005</td>\n",
              "      <td>7176700</td>\n",
              "    </tr>\n",
              "    <tr>\n",
              "      <th>1</th>\n",
              "      <td>255.380005</td>\n",
              "      <td>260.950012</td>\n",
              "      <td>253.559998</td>\n",
              "      <td>260.720001</td>\n",
              "      <td>260.720001</td>\n",
              "      <td>4195000</td>\n",
              "    </tr>\n",
              "    <tr>\n",
              "      <th>2</th>\n",
              "      <td>260.329987</td>\n",
              "      <td>260.649994</td>\n",
              "      <td>255.020004</td>\n",
              "      <td>255.250000</td>\n",
              "      <td>255.250000</td>\n",
              "      <td>3604300</td>\n",
              "    </tr>\n",
              "    <tr>\n",
              "      <th>3</th>\n",
              "      <td>252.059998</td>\n",
              "      <td>254.559998</td>\n",
              "      <td>241.899994</td>\n",
              "      <td>242.179993</td>\n",
              "      <td>242.179993</td>\n",
              "      <td>4905800</td>\n",
              "    </tr>\n",
              "    <tr>\n",
              "      <th>4</th>\n",
              "      <td>236.000000</td>\n",
              "      <td>243.800003</td>\n",
              "      <td>230.509995</td>\n",
              "      <td>230.770004</td>\n",
              "      <td>230.770004</td>\n",
              "      <td>6590200</td>\n",
              "    </tr>\n",
              "    <tr>\n",
              "      <th>...</th>\n",
              "      <td>...</td>\n",
              "      <td>...</td>\n",
              "      <td>...</td>\n",
              "      <td>...</td>\n",
              "      <td>...</td>\n",
              "      <td>...</td>\n",
              "    </tr>\n",
              "    <tr>\n",
              "      <th>1230</th>\n",
              "      <td>1405.010010</td>\n",
              "      <td>1429.500000</td>\n",
              "      <td>1336.709961</td>\n",
              "      <td>1389.859985</td>\n",
              "      <td>1389.859985</td>\n",
              "      <td>21489700</td>\n",
              "    </tr>\n",
              "    <tr>\n",
              "      <th>1231</th>\n",
              "      <td>1405.000000</td>\n",
              "      <td>1417.260010</td>\n",
              "      <td>1311.339966</td>\n",
              "      <td>1365.880005</td>\n",
              "      <td>1365.880005</td>\n",
              "      <td>16311300</td>\n",
              "    </tr>\n",
              "    <tr>\n",
              "      <th>1232</th>\n",
              "      <td>1396.989990</td>\n",
              "      <td>1408.560059</td>\n",
              "      <td>1351.280029</td>\n",
              "      <td>1394.280029</td>\n",
              "      <td>1394.280029</td>\n",
              "      <td>11717600</td>\n",
              "    </tr>\n",
              "    <tr>\n",
              "      <th>1233</th>\n",
              "      <td>1396.000000</td>\n",
              "      <td>1548.920044</td>\n",
              "      <td>1376.010010</td>\n",
              "      <td>1544.650024</td>\n",
              "      <td>1544.650024</td>\n",
              "      <td>23337600</td>\n",
              "    </tr>\n",
              "    <tr>\n",
              "      <th>1234</th>\n",
              "      <td>1659.000000</td>\n",
              "      <td>1794.989990</td>\n",
              "      <td>1471.109985</td>\n",
              "      <td>1497.060059</td>\n",
              "      <td>1497.060059</td>\n",
              "      <td>38985400</td>\n",
              "    </tr>\n",
              "  </tbody>\n",
              "</table>\n",
              "<p>1235 rows × 6 columns</p>\n",
              "</div>"
            ],
            "text/plain": [
              "             Open         High          Low        Close    Adj Close    Volume\n",
              "0      255.559998   256.589996   250.509995   254.990005   254.990005   7176700\n",
              "1      255.380005   260.950012   253.559998   260.720001   260.720001   4195000\n",
              "2      260.329987   260.649994   255.020004   255.250000   255.250000   3604300\n",
              "3      252.059998   254.559998   241.899994   242.179993   242.179993   4905800\n",
              "4      236.000000   243.800003   230.509995   230.770004   230.770004   6590200\n",
              "...           ...          ...          ...          ...          ...       ...\n",
              "1230  1405.010010  1429.500000  1336.709961  1389.859985  1389.859985  21489700\n",
              "1231  1405.000000  1417.260010  1311.339966  1365.880005  1365.880005  16311300\n",
              "1232  1396.989990  1408.560059  1351.280029  1394.280029  1394.280029  11717600\n",
              "1233  1396.000000  1548.920044  1376.010010  1544.650024  1544.650024  23337600\n",
              "1234  1659.000000  1794.989990  1471.109985  1497.060059  1497.060059  38985400\n",
              "\n",
              "[1235 rows x 6 columns]"
            ]
          },
          "metadata": {
            "tags": []
          },
          "execution_count": 5
        }
      ]
    },
    {
      "cell_type": "markdown",
      "metadata": {
        "id": "paEnB1wWmPPT"
      },
      "source": [
        "- Datamızın bilgierine bakıyoruz"
      ]
    },
    {
      "cell_type": "code",
      "metadata": {
        "colab": {
          "base_uri": "https://localhost:8080/"
        },
        "id": "Ih0gvk-5Pqvm",
        "outputId": "d13cbe54-0145-46d8-ffa7-898c8b7e44b0"
      },
      "source": [
        "data.info()"
      ],
      "execution_count": null,
      "outputs": [
        {
          "output_type": "stream",
          "text": [
            "<class 'pandas.core.frame.DataFrame'>\n",
            "RangeIndex: 1235 entries, 0 to 1234\n",
            "Data columns (total 6 columns):\n",
            " #   Column     Non-Null Count  Dtype  \n",
            "---  ------     --------------  -----  \n",
            " 0   Open       1235 non-null   float64\n",
            " 1   High       1235 non-null   float64\n",
            " 2   Low        1235 non-null   float64\n",
            " 3   Close      1235 non-null   float64\n",
            " 4   Adj Close  1235 non-null   float64\n",
            " 5   Volume     1235 non-null   int64  \n",
            "dtypes: float64(5), int64(1)\n",
            "memory usage: 58.0 KB\n"
          ],
          "name": "stdout"
        }
      ]
    },
    {
      "cell_type": "markdown",
      "metadata": {
        "id": "J52MLJP6mXpe"
      },
      "source": [
        "- Datamızın istatiksel değerlerine bakıyoruz"
      ]
    },
    {
      "cell_type": "code",
      "metadata": {
        "colab": {
          "base_uri": "https://localhost:8080/",
          "height": 284
        },
        "id": "JHhAqwMxPBEZ",
        "outputId": "4f3620ce-c73a-4ba4-e9d1-c01441e016ae"
      },
      "source": [
        "data.describe()"
      ],
      "execution_count": null,
      "outputs": [
        {
          "output_type": "execute_result",
          "data": {
            "text/html": [
              "<div>\n",
              "<style scoped>\n",
              "    .dataframe tbody tr th:only-of-type {\n",
              "        vertical-align: middle;\n",
              "    }\n",
              "\n",
              "    .dataframe tbody tr th {\n",
              "        vertical-align: top;\n",
              "    }\n",
              "\n",
              "    .dataframe thead th {\n",
              "        text-align: right;\n",
              "    }\n",
              "</style>\n",
              "<table border=\"1\" class=\"dataframe\">\n",
              "  <thead>\n",
              "    <tr style=\"text-align: right;\">\n",
              "      <th></th>\n",
              "      <th>Open</th>\n",
              "      <th>High</th>\n",
              "      <th>Low</th>\n",
              "      <th>Close</th>\n",
              "      <th>Adj Close</th>\n",
              "      <th>Volume</th>\n",
              "    </tr>\n",
              "  </thead>\n",
              "  <tbody>\n",
              "    <tr>\n",
              "      <th>count</th>\n",
              "      <td>1235.000000</td>\n",
              "      <td>1235.000000</td>\n",
              "      <td>1235.000000</td>\n",
              "      <td>1235.000000</td>\n",
              "      <td>1235.000000</td>\n",
              "      <td>1.235000e+03</td>\n",
              "    </tr>\n",
              "    <tr>\n",
              "      <th>mean</th>\n",
              "      <td>326.274081</td>\n",
              "      <td>332.998834</td>\n",
              "      <td>319.451781</td>\n",
              "      <td>326.494381</td>\n",
              "      <td>326.494381</td>\n",
              "      <td>8.080055e+06</td>\n",
              "    </tr>\n",
              "    <tr>\n",
              "      <th>std</th>\n",
              "      <td>175.247190</td>\n",
              "      <td>181.925242</td>\n",
              "      <td>168.824605</td>\n",
              "      <td>175.669603</td>\n",
              "      <td>175.669603</td>\n",
              "      <td>5.955280e+06</td>\n",
              "    </tr>\n",
              "    <tr>\n",
              "      <th>min</th>\n",
              "      <td>142.320007</td>\n",
              "      <td>154.970001</td>\n",
              "      <td>141.050003</td>\n",
              "      <td>143.669998</td>\n",
              "      <td>143.669998</td>\n",
              "      <td>7.080000e+05</td>\n",
              "    </tr>\n",
              "    <tr>\n",
              "      <th>25%</th>\n",
              "      <td>228.970001</td>\n",
              "      <td>231.519996</td>\n",
              "      <td>225.000000</td>\n",
              "      <td>228.760002</td>\n",
              "      <td>228.760002</td>\n",
              "      <td>4.358500e+06</td>\n",
              "    </tr>\n",
              "    <tr>\n",
              "      <th>50%</th>\n",
              "      <td>287.760010</td>\n",
              "      <td>295.000000</td>\n",
              "      <td>282.700012</td>\n",
              "      <td>289.459991</td>\n",
              "      <td>289.459991</td>\n",
              "      <td>6.257100e+06</td>\n",
              "    </tr>\n",
              "    <tr>\n",
              "      <th>75%</th>\n",
              "      <td>340.414993</td>\n",
              "      <td>346.985001</td>\n",
              "      <td>334.740005</td>\n",
              "      <td>340.990005</td>\n",
              "      <td>340.990005</td>\n",
              "      <td>9.467200e+06</td>\n",
              "    </tr>\n",
              "    <tr>\n",
              "      <th>max</th>\n",
              "      <td>1659.000000</td>\n",
              "      <td>1794.989990</td>\n",
              "      <td>1471.109985</td>\n",
              "      <td>1544.650024</td>\n",
              "      <td>1544.650024</td>\n",
              "      <td>6.093880e+07</td>\n",
              "    </tr>\n",
              "  </tbody>\n",
              "</table>\n",
              "</div>"
            ],
            "text/plain": [
              "              Open         High  ...    Adj Close        Volume\n",
              "count  1235.000000  1235.000000  ...  1235.000000  1.235000e+03\n",
              "mean    326.274081   332.998834  ...   326.494381  8.080055e+06\n",
              "std     175.247190   181.925242  ...   175.669603  5.955280e+06\n",
              "min     142.320007   154.970001  ...   143.669998  7.080000e+05\n",
              "25%     228.970001   231.519996  ...   228.760002  4.358500e+06\n",
              "50%     287.760010   295.000000  ...   289.459991  6.257100e+06\n",
              "75%     340.414993   346.985001  ...   340.990005  9.467200e+06\n",
              "max    1659.000000  1794.989990  ...  1544.650024  6.093880e+07\n",
              "\n",
              "[8 rows x 6 columns]"
            ]
          },
          "metadata": {
            "tags": []
          },
          "execution_count": 27
        }
      ]
    },
    {
      "cell_type": "markdown",
      "metadata": {
        "id": "Sj5WDNucno3L"
      },
      "source": [
        "- Datamız da NaN değer kontrolü yapıyoruz"
      ]
    },
    {
      "cell_type": "code",
      "metadata": {
        "colab": {
          "base_uri": "https://localhost:8080/"
        },
        "id": "DrlmaPUqPWSD",
        "outputId": "955901c6-bcbe-48a6-fa00-6ef6866a8244"
      },
      "source": [
        "data.isnull().any()"
      ],
      "execution_count": null,
      "outputs": [
        {
          "output_type": "execute_result",
          "data": {
            "text/plain": [
              "Open         False\n",
              "High         False\n",
              "Low          False\n",
              "Close        False\n",
              "Adj Close    False\n",
              "Volume       False\n",
              "dtype: bool"
            ]
          },
          "metadata": {
            "tags": []
          },
          "execution_count": 29
        }
      ]
    },
    {
      "cell_type": "code",
      "metadata": {
        "colab": {
          "base_uri": "https://localhost:8080/",
          "height": 1000
        },
        "id": "Lds8HL_pGK7h",
        "outputId": "bacfd52a-ff88-42ab-f224-aa1b96f79807"
      },
      "source": [
        "import matplotlib.pyplot as plt\n",
        "import seaborn as sns\n",
        "\n",
        "plt.figure(figsize=(3,3))\n",
        "sns.pairplot(data)\n"
      ],
      "execution_count": null,
      "outputs": [
        {
          "output_type": "execute_result",
          "data": {
            "text/plain": [
              "<seaborn.axisgrid.PairGrid at 0x7f75ddc168d0>"
            ]
          },
          "metadata": {
            "tags": []
          },
          "execution_count": 6
        },
        {
          "output_type": "display_data",
          "data": {
            "text/plain": [
              "<Figure size 216x216 with 0 Axes>"
            ]
          },
          "metadata": {
            "tags": []
          }
        },
        {
          "output_type": "display_data",
          "data": {
            "image/png": "[encoded data removed]",
            "text/plain": [
              "<Figure size 1080x1080 with 42 Axes>"
            ]
          },
          "metadata": {
            "tags": [],
            "needs_background": "light"
          }
        }
      ]
    },
    {
      "cell_type": "markdown",
      "metadata": {
        "id": "N9GXBTkbJeXW"
      },
      "source": [
        "- Datamızın Close ve Open sütunlarını görselleştirdik\n",
        "- Aşağıdaki grafikte gördüğümüz gibi Open değerleri arttıkça Close değerleri de artıyor.Bu durumda diyebiliriz ki Open ve Close sütunu arasında Linear bir ilişki vardır"
      ]
    },
    {
      "cell_type": "code",
      "metadata": {
        "colab": {
          "base_uri": "https://localhost:8080/",
          "height": 298
        },
        "id": "MS0yoktnJVx7",
        "outputId": "84502e6e-1379-46c7-beab-e08d40dbde23"
      },
      "source": [
        "import matplotlib.pyplot as plt\n",
        "\n",
        "plt.scatter(data['Open'],data['Close'])\n",
        "plt.xlabel(\"Open\")\n",
        "plt.ylabel(\"Close\")"
      ],
      "execution_count": null,
      "outputs": [
        {
          "output_type": "execute_result",
          "data": {
            "text/plain": [
              "Text(0, 0.5, 'Close')"
            ]
          },
          "metadata": {
            "tags": []
          },
          "execution_count": 6
        },
        {
          "output_type": "display_data",
          "data": {
            "image/png": "[encoded data removed]",
            "text/plain": [
              "<Figure size 432x288 with 1 Axes>"
            ]
          },
          "metadata": {
            "tags": [],
            "needs_background": "light"
          }
        }
      ]
    },
    {
      "cell_type": "markdown",
      "metadata": {
        "id": "NzISAV-Cn11f"
      },
      "source": [
        "- Bizim Bağımlı değişkenimiz olacak olan Close sütununun datamızda ki diğer sütunlar ile ilişkisine bakıyoruz"
      ]
    },
    {
      "cell_type": "code",
      "metadata": {
        "colab": {
          "base_uri": "https://localhost:8080/",
          "height": 351
        },
        "id": "G-UqLj-5Q1pp",
        "outputId": "4244eb94-d3db-4c92-fb6d-087e0f8ce5d4"
      },
      "source": [
        "import matplotlib.pyplot as plt\n",
        "\n",
        "plt.figure(figsize=(15,5))\n",
        "plt.subplot(1,3,1)\n",
        "plt.scatter(data['Low'],data['Close'])\n",
        "plt.subplot(1,3,2)\n",
        "plt.scatter(data['Volume'],data['Close'])\n",
        "plt.subplot(1,3,3)\n",
        "plt.scatter(data['High'],data['Close'])"
      ],
      "execution_count": null,
      "outputs": [
        {
          "output_type": "execute_result",
          "data": {
            "text/plain": [
              "<matplotlib.collections.PathCollection at 0x7f058ea95d30>"
            ]
          },
          "metadata": {
            "tags": []
          },
          "execution_count": 12
        },
        {
          "output_type": "display_data",
          "data": {
            "image/png": "[encoded data removed]",
            "text/plain": [
              "<Figure size 1080x360 with 3 Axes>"
            ]
          },
          "metadata": {
            "tags": [],
            "needs_background": "light"
          }
        }
      ]
    },
    {
      "cell_type": "markdown",
      "metadata": {
        "id": "6EyLZBr-KVyd"
      },
      "source": [
        "- Seaborn içerisinden jointplot ile Regresyon grafiğini çizdiriyoruz"
      ]
    },
    {
      "cell_type": "code",
      "metadata": {
        "colab": {
          "base_uri": "https://localhost:8080/",
          "height": 511
        },
        "id": "76WB9MXwSbdn",
        "outputId": "395035fc-b9d6-453f-e8d7-3d8c160532ca"
      },
      "source": [
        "import seaborn as sns\n",
        "\n",
        "sns.jointplot(data['Open'],data['Close'],kind='reg')"
      ],
      "execution_count": null,
      "outputs": [
        {
          "output_type": "stream",
          "text": [
            "/usr/local/lib/python3.6/dist-packages/seaborn/_decorators.py:43: FutureWarning: Pass the following variables as keyword args: x, y. From version 0.12, the only valid positional argument will be `data`, and passing other arguments without an explicit keyword will result in an error or misinterpretation.\n",
            "  FutureWarning\n"
          ],
          "name": "stderr"
        },
        {
          "output_type": "execute_result",
          "data": {
            "text/plain": [
              "<seaborn.axisgrid.JointGrid at 0x7f058eb3ad30>"
            ]
          },
          "metadata": {
            "tags": []
          },
          "execution_count": 13
        },
        {
          "output_type": "display_data",
          "data": {
            "image/png": "[encoded data removed]",
            "text/plain": [
              "<Figure size 432x432 with 3 Axes>"
            ]
          },
          "metadata": {
            "tags": [],
            "needs_background": "light"
          }
        }
      ]
    },
    {
      "cell_type": "markdown",
      "metadata": {
        "id": "55ghkr_PoZk3"
      },
      "source": [
        "- Bağımlı değişkenimiz Close ve aralarında linear bir ilişki olan Open ve High sütunlarımızın boxplot ile görselleştirerek bazı istatistiksel değerlerini gördük\n",
        "\n",
        "- Aynı zaman da Bu değerleri yazdırdık"
      ]
    },
    {
      "cell_type": "code",
      "metadata": {
        "colab": {
          "base_uri": "https://localhost:8080/",
          "height": 472
        },
        "id": "6xGp67VnHUms",
        "outputId": "25a55599-2356-4eca-b9a9-52499cbcb2b1"
      },
      "source": [
        "import numpy as np\n",
        "plt.figure(figsize=(20,5))\n",
        "\n",
        "plt.subplot(1,3,1)\n",
        "plt.boxplot(data['Close'])\n",
        "print('Close Median='+ str(np.median(data['Close'])))\n",
        "print('%25 = '+str(np.percentile(data['Close'],25)))\n",
        "print('%75 = '+str(np.percentile(data['Close'],75)))\n",
        "\n",
        "plt.subplot(1,3,2)\n",
        "plt.boxplot(data['Open'])\n",
        "print('Open Median='+ str(np.median(data['Open'])))\n",
        "print('%25 = '+str(np.percentile(data['Open'],25)))\n",
        "print('%75 = '+str(np.percentile(data['Open'],75)))\n",
        "\n",
        "plt.subplot(1,3,3)\n",
        "plt.boxplot(data['High'])\n",
        "print('High Median='+ str(np.median(data['High'])))\n",
        "print('%25 = '+str(np.percentile(data['High'],25)))\n",
        "print('%75 = '+str(np.percentile(data['High'],75)))"
      ],
      "execution_count": null,
      "outputs": [
        {
          "output_type": "stream",
          "text": [
            "Close Median=289.459991\n",
            "%25 = 228.760002\n",
            "%75 = 340.9900055\n",
            "Open Median=287.76001\n",
            "%25 = 228.97000099999997\n",
            "%75 = 340.414993\n",
            "High Median=295.0\n",
            "%25 = 231.5199965\n",
            "%75 = 346.9850005\n"
          ],
          "name": "stdout"
        },
        {
          "output_type": "display_data",
          "data": {
            "image/png": "[encoded data removed]",
            "text/plain": [
              "<Figure size 1440x360 with 3 Axes>"
            ]
          },
          "metadata": {
            "tags": [],
            "needs_background": "light"
          }
        }
      ]
    },
    {
      "cell_type": "markdown",
      "metadata": {
        "id": "IK5NzE45o-bp"
      },
      "source": [
        "- Bağımlı değişkenimiz olan Close ile aralarında linear ilişki bulunmayan Volume sütunu boxplot ile görselleştirdik ve bazı istatiksel değerlerine baktık\n"
      ]
    },
    {
      "cell_type": "code",
      "metadata": {
        "colab": {
          "base_uri": "https://localhost:8080/",
          "height": 490
        },
        "id": "ENWQHxZnOSNB",
        "outputId": "fe273e73-fa3e-4ae8-af48-5a0d01bc33fc"
      },
      "source": [
        "plt.figure(figsize=(7,7))\n",
        "plt.boxplot(data['Volume'])\n",
        "\n",
        "print('Median='+ str(np.median(data['Volume'])))\n",
        "print('%25 = '+str(np.percentile(data['Volume'],25)))\n",
        "print('%75 = '+str(np.percentile(data['Volume'],75)))"
      ],
      "execution_count": null,
      "outputs": [
        {
          "output_type": "stream",
          "text": [
            "Median=6257100.0\n",
            "%25 = 4358500.0\n",
            "%75 = 9467200.0\n"
          ],
          "name": "stdout"
        },
        {
          "output_type": "display_data",
          "data": {
            "image/png": "[encoded data removed]",
            "text/plain": [
              "<Figure size 504x504 with 1 Axes>"
            ]
          },
          "metadata": {
            "tags": [],
            "needs_background": "light"
          }
        }
      ]
    },
    {
      "cell_type": "markdown",
      "metadata": {
        "id": "is4Iy_OBpVYa"
      },
      "source": [
        "- Bağımsız değişkenimizi datamızdan aldık\n",
        "- Bağımlı değişkenimizi datamızdan aldık"
      ]
    },
    {
      "cell_type": "code",
      "metadata": {
        "id": "Qb4TxnI7OgdH"
      },
      "source": [
        "open  = data.iloc[:,0:1].values\n",
        "close = data.iloc[:,3:4].values"
      ],
      "execution_count": null,
      "outputs": []
    },
    {
      "cell_type": "code",
      "metadata": {
        "colab": {
          "base_uri": "https://localhost:8080/"
        },
        "id": "w8b1ese3P6nr",
        "outputId": "5b6dc3e2-9df5-4fad-a7e7-e71698039d39"
      },
      "source": [
        "close"
      ],
      "execution_count": null,
      "outputs": [
        {
          "output_type": "execute_result",
          "data": {
            "text/plain": [
              "array([[ 254.990005],\n",
              "       [ 260.720001],\n",
              "       [ 255.25    ],\n",
              "       ...,\n",
              "       [1394.280029],\n",
              "       [1544.650024],\n",
              "       [1497.060059]])"
            ]
          },
          "metadata": {
            "tags": []
          },
          "execution_count": 8
        }
      ]
    },
    {
      "cell_type": "code",
      "metadata": {
        "colab": {
          "base_uri": "https://localhost:8080/"
        },
        "id": "XzHikN98QJma",
        "outputId": "6dc84b05-1268-4788-c9f1-20fb0cacf376"
      },
      "source": [
        "open"
      ],
      "execution_count": null,
      "outputs": [
        {
          "output_type": "execute_result",
          "data": {
            "text/plain": [
              "array([[ 255.559998],\n",
              "       [ 255.380005],\n",
              "       [ 260.329987],\n",
              "       ...,\n",
              "       [1396.98999 ],\n",
              "       [1396.      ],\n",
              "       [1659.      ]])"
            ]
          },
          "metadata": {
            "tags": []
          },
          "execution_count": 9
        }
      ]
    },
    {
      "cell_type": "markdown",
      "metadata": {
        "id": "FcJFcpHwSeag"
      },
      "source": [
        "- Linear Regression kullanarak Close değerlerini tahmin eden model oluşturacağız"
      ]
    },
    {
      "cell_type": "code",
      "metadata": {
        "colab": {
          "base_uri": "https://localhost:8080/"
        },
        "id": "lTe1uJ7hQjc9",
        "outputId": "bd14878f-2893-4b9e-cbe3-2f02a16f1a35"
      },
      "source": [
        "from sklearn.linear_model import LinearRegression\n",
        "\n",
        "lin_reg = LinearRegression()\n",
        "\n",
        "lin_reg.fit(open,close)"
      ],
      "execution_count": null,
      "outputs": [
        {
          "output_type": "execute_result",
          "data": {
            "text/plain": [
              "LinearRegression(copy_X=True, fit_intercept=True, n_jobs=None, normalize=False)"
            ]
          },
          "metadata": {
            "tags": []
          },
          "execution_count": 7
        }
      ]
    },
    {
      "cell_type": "markdown",
      "metadata": {
        "id": "vbAbnstBTUME"
      },
      "source": [
        "- Bağımlı ve Bağımsız değişkenlerimiz olan Close ve Open verilerinin grafiklerini daha önce çizmiştik.Şimdi o grafik üzerinde tahmin verilerimizin çizgisini çizeceğiz."
      ]
    },
    {
      "cell_type": "code",
      "metadata": {
        "colab": {
          "base_uri": "https://localhost:8080/",
          "height": 296
        },
        "id": "-as45rgZRBMz",
        "outputId": "1d445bdd-c0db-44ed-bade-2e2b8abf4d96"
      },
      "source": [
        "tahmin = lin_reg.predict(open)\n",
        "\n",
        "plt.scatter(open,close)\n",
        "plt.plot(open,tahmin,c='r')\n",
        "plt.xlabel(\"Open\")\n",
        "plt.ylabel(\"Close\")\n",
        "plt.annotate(\"Prediction Line\",xy=(1300,1200))"
      ],
      "execution_count": null,
      "outputs": [
        {
          "output_type": "execute_result",
          "data": {
            "text/plain": [
              "Text(1300, 1200, 'Prediction Line')"
            ]
          },
          "metadata": {
            "tags": []
          },
          "execution_count": 11
        },
        {
          "output_type": "display_data",
          "data": {
            "image/png": "[encoded data removed]",
            "text/plain": [
              "<Figure size 432x288 with 1 Axes>"
            ]
          },
          "metadata": {
            "tags": [],
            "needs_background": "light"
          }
        }
      ]
    },
    {
      "cell_type": "markdown",
      "metadata": {
        "id": "bBO_wI3rUV6A"
      },
      "source": [
        "- Şimdi bizim gireceğimiz Open değerinin Close değerini tahmin ettireceğiz"
      ]
    },
    {
      "cell_type": "code",
      "metadata": {
        "colab": {
          "base_uri": "https://localhost:8080/"
        },
        "id": "zG3f069SUUt_",
        "outputId": "f8a444f2-bea7-4d5d-9601-d33fcbf7145d"
      },
      "source": [
        "lin_reg.predict([[245.67]])"
      ],
      "execution_count": null,
      "outputs": [
        {
          "output_type": "execute_result",
          "data": {
            "text/plain": [
              "array([[245.92498301]])"
            ]
          },
          "metadata": {
            "tags": []
          },
          "execution_count": 8
        }
      ]
    },
    {
      "cell_type": "markdown",
      "metadata": {
        "id": "oYXYPO-CVcqc"
      },
      "source": [
        "- Open değerini 245.67 olarak girdim.Close değerini de 245.92498301 olarak tahmin etti.\n",
        "- Bu şekilde istediğimiz değerini tahmin edebiliriz.Tek dikkat etmemiz gereken gireceğimiz değerin 2 Boyutlu olması lazım.Onu da \"[ [ ] ]\" ile çözebiliriz"
      ]
    },
    {
      "cell_type": "markdown",
      "metadata": {
        "id": "lBO83uYkWCPF"
      },
      "source": [
        "- Biz linear regression yani doğrusal bağlanım kullandık.Open ve Close arasındaki ilişkiyi gösteren bir model oluşturduk. \n",
        "- Bu ilişkinin matematiksel gösterimi , denklemi ;\n",
        "\n",
        "       \" y = B0 + B1.x \" dir.\n",
        "\n",
        "y = Close değerimiz\n",
        "\n",
        "B0 = Grafikte bir tahmin doğrusu oluşturmuştuk.O doğrunun y noktasını kestiği noktadır\n",
        "\n",
        "B1 = O doğrunun eğimidir\n",
        "\n",
        "x = Bizim bağımsız değişkenimizin değeridir.Yani Open değeri\n",
        "\n",
        "- Şimdi bu B0 ve B1 katsayılarını hesaplayacağız"
      ]
    },
    {
      "cell_type": "code",
      "metadata": {
        "id": "1WaGIqNdbErS"
      },
      "source": [
        "Bo = lin_reg.intercept_\n",
        "B1 = lin_reg.coef_"
      ],
      "execution_count": null,
      "outputs": []
    },
    {
      "cell_type": "code",
      "metadata": {
        "colab": {
          "base_uri": "https://localhost:8080/"
        },
        "id": "s46RQTolbk5h",
        "outputId": "f8de3d9a-1b36-43a7-9087-1fc6912e7568"
      },
      "source": [
        "print(\"B0 = \" ,Bo)\n",
        "print(\"B1 = \" ,B1)"
      ],
      "execution_count": null,
      "outputs": [
        {
          "output_type": "stream",
          "text": [
            "B0 =  [0.36069294]\n",
            "B1 =  [[0.99956971]]\n"
          ],
          "name": "stdout"
        }
      ]
    },
    {
      "cell_type": "markdown",
      "metadata": {
        "id": "OHDwQvOpdfsE"
      },
      "source": [
        "- Biz yukarıda Open değerini 245.67 girmiştik ve bir Close tahmin değeri almıştık.Şimdi bunu denklem üzerinden kontrol edeceğiz\n",
        "\n",
        "   y=0.36069294 + (0.99956971  *  245.67 ) bu işlemin sonucunun 245.92498301 olması lazım.Şİmdi onu test edeceğiz"
      ]
    },
    {
      "cell_type": "code",
      "metadata": {
        "id": "zX48OQhUezM8"
      },
      "source": [
        "close_head = 0.36069294 + (0.99956971 * 245.67)"
      ],
      "execution_count": null,
      "outputs": []
    },
    {
      "cell_type": "code",
      "metadata": {
        "colab": {
          "base_uri": "https://localhost:8080/"
        },
        "id": "NZglqbhof_Wf",
        "outputId": "a8344feb-e615-4565-c355-b5ca36292506"
      },
      "source": [
        "close_head"
      ],
      "execution_count": null,
      "outputs": [
        {
          "output_type": "execute_result",
          "data": {
            "text/plain": [
              "245.92498359569998"
            ]
          },
          "metadata": {
            "tags": []
          },
          "execution_count": 10
        }
      ]
    },
    {
      "cell_type": "markdown",
      "metadata": {
        "id": "uLnHJ7AQkJgQ"
      },
      "source": [
        "- Tahmin doğrusunun matematiksel ifadesini kullanarak bulmuş olduğumuz close_head değeri ile modelin .predict() metodu ile bulduğumuz değer aynıdır\n"
      ]
    },
    {
      "cell_type": "markdown",
      "metadata": {
        "id": "IXMz1RPYkxLS"
      },
      "source": [
        "# Multiple Linear Regression"
      ]
    },
    {
      "cell_type": "markdown",
      "metadata": {
        "id": "EjLPE_rPl1cZ"
      },
      "source": [
        "- Bizim yukarıda bir tane bağımsız değişkenimiz vardı.O da Open idi.\n",
        "- Ama şimdi 3 tane bağımsız değişkenimiz olacak.Bu bağımsız değişkenlerimiz de Close bağımlı değişkenimiz ile linear ilişkiye sahip olan sütunlarımız.\n",
        "- Şimdi bunların linear regression ile tahmin modeli oluşturacağız"
      ]
    },
    {
      "cell_type": "code",
      "metadata": {
        "id": "rQs93OEmP8EX"
      },
      "source": [
        "data.drop(['Close','Adj Close','Volume'],axis=1,inplace=True)"
      ],
      "execution_count": null,
      "outputs": []
    },
    {
      "cell_type": "markdown",
      "metadata": {
        "id": "e-Wm2o_Tpq0v"
      },
      "source": [
        "- Close sütunumuz ile linear lişkisi olmayan Volume sütununu da datamızdan siliyoruz\n",
        "- Datamızda sadece bağımsız değişkenlerimiz olan Open,High ve Low sütunlarımız olacak  "
      ]
    },
    {
      "cell_type": "code",
      "metadata": {
        "colab": {
          "base_uri": "https://localhost:8080/",
          "height": 402
        },
        "id": "AbpPjNJHQLdd",
        "outputId": "5f218a8e-d594-402f-882b-50adea31edb6"
      },
      "source": [
        "data"
      ],
      "execution_count": null,
      "outputs": [
        {
          "output_type": "execute_result",
          "data": {
            "text/html": [
              "<div>\n",
              "<style scoped>\n",
              "    .dataframe tbody tr th:only-of-type {\n",
              "        vertical-align: middle;\n",
              "    }\n",
              "\n",
              "    .dataframe tbody tr th {\n",
              "        vertical-align: top;\n",
              "    }\n",
              "\n",
              "    .dataframe thead th {\n",
              "        text-align: right;\n",
              "    }\n",
              "</style>\n",
              "<table border=\"1\" class=\"dataframe\">\n",
              "  <thead>\n",
              "    <tr style=\"text-align: right;\">\n",
              "      <th></th>\n",
              "      <th>Open</th>\n",
              "      <th>High</th>\n",
              "      <th>Low</th>\n",
              "    </tr>\n",
              "  </thead>\n",
              "  <tbody>\n",
              "    <tr>\n",
              "      <th>0</th>\n",
              "      <td>255.559998</td>\n",
              "      <td>256.589996</td>\n",
              "      <td>250.509995</td>\n",
              "    </tr>\n",
              "    <tr>\n",
              "      <th>1</th>\n",
              "      <td>255.380005</td>\n",
              "      <td>260.950012</td>\n",
              "      <td>253.559998</td>\n",
              "    </tr>\n",
              "    <tr>\n",
              "      <th>2</th>\n",
              "      <td>260.329987</td>\n",
              "      <td>260.649994</td>\n",
              "      <td>255.020004</td>\n",
              "    </tr>\n",
              "    <tr>\n",
              "      <th>3</th>\n",
              "      <td>252.059998</td>\n",
              "      <td>254.559998</td>\n",
              "      <td>241.899994</td>\n",
              "    </tr>\n",
              "    <tr>\n",
              "      <th>4</th>\n",
              "      <td>236.000000</td>\n",
              "      <td>243.800003</td>\n",
              "      <td>230.509995</td>\n",
              "    </tr>\n",
              "    <tr>\n",
              "      <th>...</th>\n",
              "      <td>...</td>\n",
              "      <td>...</td>\n",
              "      <td>...</td>\n",
              "    </tr>\n",
              "    <tr>\n",
              "      <th>1230</th>\n",
              "      <td>1405.010010</td>\n",
              "      <td>1429.500000</td>\n",
              "      <td>1336.709961</td>\n",
              "    </tr>\n",
              "    <tr>\n",
              "      <th>1231</th>\n",
              "      <td>1405.000000</td>\n",
              "      <td>1417.260010</td>\n",
              "      <td>1311.339966</td>\n",
              "    </tr>\n",
              "    <tr>\n",
              "      <th>1232</th>\n",
              "      <td>1396.989990</td>\n",
              "      <td>1408.560059</td>\n",
              "      <td>1351.280029</td>\n",
              "    </tr>\n",
              "    <tr>\n",
              "      <th>1233</th>\n",
              "      <td>1396.000000</td>\n",
              "      <td>1548.920044</td>\n",
              "      <td>1376.010010</td>\n",
              "    </tr>\n",
              "    <tr>\n",
              "      <th>1234</th>\n",
              "      <td>1659.000000</td>\n",
              "      <td>1794.989990</td>\n",
              "      <td>1471.109985</td>\n",
              "    </tr>\n",
              "  </tbody>\n",
              "</table>\n",
              "<p>1235 rows × 3 columns</p>\n",
              "</div>"
            ],
            "text/plain": [
              "             Open         High          Low\n",
              "0      255.559998   256.589996   250.509995\n",
              "1      255.380005   260.950012   253.559998\n",
              "2      260.329987   260.649994   255.020004\n",
              "3      252.059998   254.559998   241.899994\n",
              "4      236.000000   243.800003   230.509995\n",
              "...           ...          ...          ...\n",
              "1230  1405.010010  1429.500000  1336.709961\n",
              "1231  1405.000000  1417.260010  1311.339966\n",
              "1232  1396.989990  1408.560059  1351.280029\n",
              "1233  1396.000000  1548.920044  1376.010010\n",
              "1234  1659.000000  1794.989990  1471.109985\n",
              "\n",
              "[1235 rows x 3 columns]"
            ]
          },
          "metadata": {
            "tags": []
          },
          "execution_count": 12
        }
      ]
    },
    {
      "cell_type": "markdown",
      "metadata": {
        "id": "diY3ZUyloV2V"
      },
      "source": [
        "- Linear Regression ile Bağımsız değişkenimiz olan data'mız ve Bağımlı değişkenimiz Close'u fit ediyoruz  "
      ]
    },
    {
      "cell_type": "code",
      "metadata": {
        "id": "ga1KMdJiRT07",
        "colab": {
          "base_uri": "https://localhost:8080/"
        },
        "outputId": "91388d5e-d789-499d-d182-df7656bfcc81"
      },
      "source": [
        "from sklearn.linear_model import LinearRegression\n",
        "\n",
        "lin_reg = LinearRegression()\n",
        "\n",
        "lin_reg.fit(data,close)"
      ],
      "execution_count": null,
      "outputs": [
        {
          "output_type": "execute_result",
          "data": {
            "text/plain": [
              "LinearRegression(copy_X=True, fit_intercept=True, n_jobs=None, normalize=False)"
            ]
          },
          "metadata": {
            "tags": []
          },
          "execution_count": 14
        }
      ]
    },
    {
      "cell_type": "markdown",
      "metadata": {
        "id": "gT3OIr3WpEpc"
      },
      "source": [
        "- Modelimizi fit ettikten sonra şimdi predict yapıyoruz.\n",
        "- Tek bağımsız değişkenimiz olan modelde predict metodunu kullanırken tek bir sayı yazıyorduk.Fakat Multiple Linear Regression da birden fazla bağımsız değişkenimiz olacağından predict() içerisine bağımsız değişkenimiz kadar değer vermemiz gerekecek.\n",
        "- Bizim Open,High ve Low olmak üzere 3 tane bağımsız değişkenimiz olacak.Bu yüzden predict() içerisine yazacağımız ilk değer Open değeri,2. değer High değeri,3. değer ise Low değeri olacaktır.Şöyle gösterecek olursak;\n",
        "\n",
        "--> .predict( [ [ Open değeri,High değeri,Low değeri ] ] )\n",
        "\n",
        "- Open değer = 245.67\n",
        "- High değer = 270.78\n",
        "- Low değer = 244.34  şeklinde girdim. Bakalım bu değerlere sahip olduğumuz da close değerimiz ne olacak"
      ]
    },
    {
      "cell_type": "code",
      "metadata": {
        "id": "ebPqls_vRy54",
        "colab": {
          "base_uri": "https://localhost:8080/"
        },
        "outputId": "324a8192-7ea4-4f3c-f41d-2ff86a997b8d"
      },
      "source": [
        "lin_reg.predict([[245.67,270.78,244.34]])"
      ],
      "execution_count": null,
      "outputs": [
        {
          "output_type": "execute_result",
          "data": {
            "text/plain": [
              "array([[263.55264436]])"
            ]
          },
          "metadata": {
            "tags": []
          },
          "execution_count": 15
        }
      ]
    },
    {
      "cell_type": "markdown",
      "metadata": {
        "id": "oo-0hWmhtyoy"
      },
      "source": [
        "- Close değerimizi 263.55264436 olarak verdi\n",
        "\n",
        "\n",
        "- Modelin Matematik denklemini ifade edecek olursak ;\n",
        "    \n",
        "    y = B0 + B1 * X1 + B2 * X2 + B3 * X3 \n",
        "\n",
        "- Burada B1,B2 ve B3 bizim coefficient katsayılarımız\n",
        "- X1,X2 ve X3 ise sırasıyla bizim bağımsız değişkenlerimiz olan Open,High ve Low değerlerimiz\n",
        "- Yukarıda predict ile tahmin ettiğimiz Close değerini şimdi bu denklemi kullanarak hesaplayacağız.Ama ilk önce y eksenini kesen nokta olan B0 katsayısını ve B1,B2,B3 eğimlerimizin değerlerini bulmamız gerekiyor"
      ]
    },
    {
      "cell_type": "code",
      "metadata": {
        "id": "fmd_TBCSvSFP"
      },
      "source": [
        "B_0 =lin_reg.intercept_\n",
        "\n",
        "Coeff= lin_reg.coef_"
      ],
      "execution_count": null,
      "outputs": []
    },
    {
      "cell_type": "code",
      "metadata": {
        "id": "ri7wQ0oVwaI2",
        "colab": {
          "base_uri": "https://localhost:8080/"
        },
        "outputId": "8a7aee8a-6a7e-44a7-9759-73bbad5dad76"
      },
      "source": [
        "print(B_0)\n",
        "print(Coeff)"
      ],
      "execution_count": null,
      "outputs": [
        {
          "output_type": "stream",
          "text": [
            "[-1.40321226]\n",
            "[[-0.68967306  0.71365475  0.98692152]]\n"
          ],
          "name": "stdout"
        }
      ]
    },
    {
      "cell_type": "markdown",
      "metadata": {
        "id": "YF1x72tlwqgD"
      },
      "source": [
        "- B0  = -1.40321226 \n",
        "- B1 , B2 , B3 = -0.68967306  0.71365475  0.98692152\n",
        " \n",
        "- Eksen kestiği noktayı ve eğimlerimizi bulduk\n",
        "- Şimdi bu değerleri yerine koyarak denklem üzerinden Close değerinin tahmin değerini bulalım \n",
        "\n",
        "- Yapacağımız işlem ;\n",
        "\n",
        "  y_head = -1.40321226 + ((-0.68967306 * 245.67) + (0.71365475 * 270.78) + ( 0.98692152 * 244.34))"
      ]
    },
    {
      "cell_type": "code",
      "metadata": {
        "id": "BTidcto7HVEe"
      },
      "source": [
        " y_head = -1.40321226 + ((-0.68967306 * 245.67) + (0.71365475 * 270.78) + ( 0.98692152 * 244.34))"
      ],
      "execution_count": null,
      "outputs": []
    },
    {
      "cell_type": "code",
      "metadata": {
        "id": "_5eL3_ZYJYOr",
        "colab": {
          "base_uri": "https://localhost:8080/"
        },
        "outputId": "28fca9c0-03f3-4556-b02f-8d5713a8aef6"
      },
      "source": [
        "y_head"
      ],
      "execution_count": null,
      "outputs": [
        {
          "output_type": "execute_result",
          "data": {
            "text/plain": [
              "263.5526444916"
            ]
          },
          "metadata": {
            "tags": []
          },
          "execution_count": 19
        }
      ]
    },
    {
      "cell_type": "markdown",
      "metadata": {
        "id": "tZ56rAhzJcsi"
      },
      "source": [
        "- Yukarıda gördüğünüz gibi denklem üzerindeki işlemimiz sonucunda bulduğumuz değer ile predict() metodu ile bulduğumuz değer aynı\n"
      ]
    },
    {
      "cell_type": "markdown",
      "metadata": {
        "id": "1Bl5fKGRgX9e"
      },
      "source": [
        "- Bağımsız değişkenimiz data ile bağımlı değişkenimiz olan close ile train ve test dataları oluşturuyoruz"
      ]
    },
    {
      "cell_type": "code",
      "metadata": {
        "id": "-GpKIci2U98W"
      },
      "source": [
        "from sklearn.model_selection import train_test_split\n",
        "\n",
        "x_train,x_test,y_train,y_test = train_test_split(data,close,test_size=0.33,random_state=18)"
      ],
      "execution_count": null,
      "outputs": []
    },
    {
      "cell_type": "markdown",
      "metadata": {
        "id": "wqECr84cgh87"
      },
      "source": [
        "- Datalarımızın boyutlarına bakıyoruz"
      ]
    },
    {
      "cell_type": "code",
      "metadata": {
        "id": "LzGhhHg1VLUe",
        "colab": {
          "base_uri": "https://localhost:8080/"
        },
        "outputId": "6d2ddbeb-2533-4bbe-999c-58e97dca4559"
      },
      "source": [
        "print(\"x_train = \" ,x_train.shape)\n",
        "print(\"x_test = \",x_test.shape)\n",
        "print(\"y_train = \",y_train.shape)\n",
        "print(\"y_test = \",y_test.shape)"
      ],
      "execution_count": null,
      "outputs": [
        {
          "output_type": "stream",
          "text": [
            "x_train =  (827, 3)\n",
            "x_test =  (408, 3)\n",
            "y_train =  (827, 1)\n",
            "y_test =  (408, 1)\n"
          ],
          "name": "stdout"
        }
      ]
    },
    {
      "cell_type": "markdown",
      "metadata": {
        "id": "bV-AzLTNgntQ"
      },
      "source": [
        "- LinearRegression kullanarak x_train ve y_train datalarımız ile fit ediyoruz.Train ediyoruz\n"
      ]
    },
    {
      "cell_type": "code",
      "metadata": {
        "id": "p27248jAWExV",
        "colab": {
          "base_uri": "https://localhost:8080/"
        },
        "outputId": "07830a9d-017b-4ec0-a63c-298789d113eb"
      },
      "source": [
        "lin_reg.fit(x_train,y_train)"
      ],
      "execution_count": null,
      "outputs": [
        {
          "output_type": "execute_result",
          "data": {
            "text/plain": [
              "LinearRegression(copy_X=True, fit_intercept=True, n_jobs=None, normalize=False)"
            ]
          },
          "metadata": {
            "tags": []
          },
          "execution_count": 22
        }
      ]
    },
    {
      "cell_type": "markdown",
      "metadata": {
        "id": "z5hfHIfSgxnE"
      },
      "source": [
        "- LinearRegression ile x_test datasını kullanarak tahmin verileri oluşturuyoruz.- Bu tahmin verilerimizin olduğu pred datasını da bizim gerçek değerlerimizin olduğu y_test datamız ile karşılaştıracağız"
      ]
    },
    {
      "cell_type": "code",
      "metadata": {
        "id": "MCrFuXDaWJKY"
      },
      "source": [
        "pred = lin_reg.predict(x_test)"
      ],
      "execution_count": null,
      "outputs": []
    },
    {
      "cell_type": "markdown",
      "metadata": {
        "id": "Sxq_mqC_hGBS"
      },
      "source": [
        "- Aşağıda ilk 20 veri de y_test ile pred tahmin verilerini karşılaştırdık"
      ]
    },
    {
      "cell_type": "code",
      "metadata": {
        "id": "4mKlBB4uWOWv",
        "colab": {
          "base_uri": "https://localhost:8080/"
        },
        "outputId": "9af50cfe-1aad-4aff-b1bd-5ae6e63bf8a2"
      },
      "source": [
        "print(\"y_test = pred \")\n",
        "for i in range(20):\n",
        "  print(\"{} = {} \".format(y_test[i],pred[i]))"
      ],
      "execution_count": null,
      "outputs": [
        {
          "output_type": "stream",
          "text": [
            "y_test = pred \n",
            "[370.] = [368.71058345] \n",
            "[254.990005] = [253.02605096] \n",
            "[337.140015] = [337.44042583] \n",
            "[229.009995] = [229.1134069] \n",
            "[312.5] = [316.65032671] \n",
            "[273.26001] = [274.19343312] \n",
            "[223.509995] = [224.96330369] \n",
            "[295.390015] = [298.08605091] \n",
            "[288.950012] = [291.11644792] \n",
            "[204.5] = [208.35355225] \n",
            "[224.520004] = [222.64736571] \n",
            "[338.690002] = [336.692077] \n",
            "[355.329987] = [355.57982869] \n",
            "[331.529999] = [330.34754757] \n",
            "[372.23999] = [374.6524543] \n",
            "[805.809998] = [818.28247946] \n",
            "[190.339996] = [187.98786385] \n",
            "[319.570007] = [317.06260794] \n",
            "[317.220001] = [321.31421529] \n",
            "[230.610001] = [226.71927067] \n"
          ],
          "name": "stdout"
        }
      ]
    },
    {
      "cell_type": "markdown",
      "metadata": {
        "id": "loFcDv91KLtN"
      },
      "source": [
        "- Şimdi Mean Squared Error hesaplayacağız.Bunun sonucunda Close verilerimiz ile tahmin doğrusu arasındaki farkın karesini hesaplayarak hatalı tahminlerimiz toplamının değerini göreceğiz\n"
      ]
    },
    {
      "cell_type": "code",
      "metadata": {
        "id": "RHwXfROQcCpb"
      },
      "source": [
        "import numpy as np\n",
        "\n",
        "ms_error = np.square(np.subtract(y_test,pred)).mean()"
      ],
      "execution_count": null,
      "outputs": []
    },
    {
      "cell_type": "markdown",
      "metadata": {
        "id": "W6SinkUkY_iI"
      },
      "source": [
        "- Mean Squared Error değerimizi bulduk aşağıda gördüğünüz gibi"
      ]
    },
    {
      "cell_type": "code",
      "metadata": {
        "id": "IpDlDCO0cM-i",
        "colab": {
          "base_uri": "https://localhost:8080/"
        },
        "outputId": "8763a391-2a2f-4df2-f56a-8851bf55f6ae"
      },
      "source": [
        "print(\"Mean Squared Eror = \" + str(ms_error))"
      ],
      "execution_count": null,
      "outputs": [
        {
          "output_type": "stream",
          "text": [
            "Mean Squared Eror = 33.181709386525256\n"
          ],
          "name": "stdout"
        }
      ]
    },
    {
      "cell_type": "markdown",
      "metadata": {
        "id": "VQA3cMwygCZ6"
      },
      "source": [
        "- Mean Squared Error değerimizin Kare kökü alınmış hali de bize Root Mean Square Error değerini verecektir"
      ]
    },
    {
      "cell_type": "code",
      "metadata": {
        "id": "kGuO_SdTcRJ2"
      },
      "source": [
        "rms_error = np.sqrt(np.square(np.subtract(y_test,pred)).mean())"
      ],
      "execution_count": null,
      "outputs": []
    },
    {
      "cell_type": "code",
      "metadata": {
        "id": "FlFPccnKce-5",
        "colab": {
          "base_uri": "https://localhost:8080/"
        },
        "outputId": "0f6c3d93-7e2a-4ecf-e40f-0a5f57e26809"
      },
      "source": [
        "print(\"Root Mean Square Error = \" + str(rms_error))"
      ],
      "execution_count": null,
      "outputs": [
        {
          "output_type": "stream",
          "text": [
            "Root Mean Square Error = 5.760356706535218\n"
          ],
          "name": "stdout"
        }
      ]
    },
    {
      "cell_type": "markdown",
      "metadata": {
        "id": "ihWP2fpP5YVI"
      },
      "source": [
        "- Biz yukarıda Mean Squared Error hesaplarken numpy ile kendimiz hesap yapmıştık\n",
        "- İstersek sklearn içinde mean_squared_error adında bir method var ve biz işlem yapmamıza gerek kalmadan hesaplama yapıyor"
      ]
    },
    {
      "cell_type": "code",
      "metadata": {
        "id": "_GPACOQC0wjv"
      },
      "source": [
        "from sklearn.metrics import mean_squared_error\n",
        "\n",
        "mse = mean_squared_error(y_test,pred)"
      ],
      "execution_count": null,
      "outputs": []
    },
    {
      "cell_type": "code",
      "metadata": {
        "id": "Y0BxjRNxY6dU",
        "colab": {
          "base_uri": "https://localhost:8080/"
        },
        "outputId": "3cb27191-d822-446d-ddd7-28839a62d002"
      },
      "source": [
        "print(\"Mean Squared Error = \" + str(mse))"
      ],
      "execution_count": null,
      "outputs": [
        {
          "output_type": "stream",
          "text": [
            "Mean Squared Error = 33.181709386525256\n"
          ],
          "name": "stdout"
        }
      ]
    },
    {
      "cell_type": "code",
      "metadata": {
        "id": "5LFLyjJSaS7_",
        "colab": {
          "base_uri": "https://localhost:8080/"
        },
        "outputId": "01ceccec-4bf7-4715-fd83-39328661a185"
      },
      "source": [
        "rmse = np.sqrt(mse)\n",
        "\n",
        "print(\"Root Mean Square Error = \" + str(rmse))"
      ],
      "execution_count": null,
      "outputs": [
        {
          "output_type": "stream",
          "text": [
            "Root Mean Square Error = 5.760356706535218\n"
          ],
          "name": "stdout"
        }
      ]
    },
    {
      "cell_type": "markdown",
      "metadata": {
        "id": "_iKu9JL_fllu"
      },
      "source": [
        "- Yukarıda gördüğünüz gibi Mean Squared Error ve Root Mean Squared Error değerlerini numpy ile de hesaplayabiliriz , sklearn içinde ki method ile de hesaplama yapabiliriz."
      ]
    },
    {
      "cell_type": "markdown",
      "metadata": {
        "id": "PK4ZRzHMwOLb"
      },
      "source": [
        "- Root Mean Square Error değerinin yüksek ya da düşük olduğunu Bağımlı değişkenin standart sapması ile karşılaştırarak değerlendiririz."
      ]
    },
    {
      "cell_type": "code",
      "metadata": {
        "colab": {
          "base_uri": "https://localhost:8080/"
        },
        "id": "WfLCYzK-vvQR",
        "outputId": "dbb5ab3e-c13a-47bb-a343-8685218f8844"
      },
      "source": [
        "print(np.std(close))"
      ],
      "execution_count": null,
      "outputs": [
        {
          "output_type": "stream",
          "text": [
            "175.5984668837788\n"
          ],
          "name": "stdout"
        }
      ]
    },
    {
      "cell_type": "markdown",
      "metadata": {
        "id": "KpMnFmUZhq2n"
      },
      "source": [
        "- Modelimizin iyi mi kötü mü olduğunu ölçmek için r2_score methodu kullanılır\n",
        "- r2 değeri 0 ile 1 arasında değerler döndürür.Bu değerin 0'a yakın olması regresyon model uyumunun kötü olduğunu, 1'e yakın olması regresyon model uyumunun iyi olduğunu gösterir"
      ]
    },
    {
      "cell_type": "code",
      "metadata": {
        "id": "uoarKDMNhTUd",
        "colab": {
          "base_uri": "https://localhost:8080/"
        },
        "outputId": "2768966a-979a-4064-dcd2-8bf836c7ed5b"
      },
      "source": [
        "from sklearn.metrics import r2_score\n",
        "\n",
        "rscre = r2_score(y_test,pred)\n",
        "\n",
        "print(\"r2_score = \" +str(rscre))"
      ],
      "execution_count": null,
      "outputs": [
        {
          "output_type": "stream",
          "text": [
            "r2_score = 0.9990138029690504\n"
          ],
          "name": "stdout"
        }
      ]
    }
  ]
}